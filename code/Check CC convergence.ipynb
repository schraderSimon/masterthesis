{
 "cells": [
  {
   "cell_type": "markdown",
   "id": "310ed84f",
   "metadata": {},
   "source": [
    "In this Jupyter Notebook, I compare the convergence of eigenvector continuation (Amp-ccevc) amplitudes as a start guess in CC calculations with the convergence of CC amplitudes using either \n",
    "- the previous geometry with procrustes orbitals with respect to the previous geometry\n",
    "- the previous geometry with canonical orbitals \n",
    "- the previous geometry with procrustes orbitals with respect to a reference geometry\n",
    "- MP2 amplitudes\n",
    "- different number of EVC ampltidues (machine learned, 50%, number of sample geometries)"
   ]
  },
  {
   "cell_type": "code",
   "execution_count": null,
   "id": "b8cdb96f",
   "metadata": {},
   "outputs": [],
   "source": [
    "\"\"\"\n",
    "Get approximate AMP-CCEVC amplitudes for HF molecule in small basis\n",
    "\"\"\"\n",
    "import sys\n",
    "sys.path.append(\"../libraries\")\n",
    "from rccsd_gs import *\n",
    "\n",
    "from func_lib import *\n",
    "from numba import jit\n",
    "from matrix_operations import *\n",
    "from helper_functions import *\n",
    "basis = '6-31G'\n",
    "charge = 0\n",
    "molecule=lambda x:  \"H 0 0 0; F 0 0 %f\"%x\n",
    "refx=[1.75]\n",
    "print(molecule(*refx))\n",
    "reference_determinant=get_reference_determinant(molecule,refx,basis,charge)\n",
    "sample_geometry=[[np.linspace(1.5,5,6),np.linspace(1.5,2,6)],[np.linspace(1.5,2,16),np.linspace(4.5,5,6)]]\n",
    "sample_geom1=np.linspace(1.5,5,6)\n",
    "import pickle\n",
    "geom_alphas1=np.linspace(1.2,5,77)\n",
    "geom_alphas=[[x] for x in geom_alphas1]\n",
    "energy_dict={}\n",
    "energy_dict[\"xval\"]=geom_alphas1\n",
    "energy_dict[\"CCSD\"]=CCSD_energy_curve(molecule,geom_alphas,basis)\n",
    "energies_WF=[[],[]]\n",
    "energies_AMP=[[],[]]\n",
    "energies_AMPred=[[],[]]\n",
    "\n",
    "sample_geom=[[x] for x in sample_geom1]\n",
    "sample_geom1=np.array(sample_geom).flatten()\n",
    "t1s,t2s,l1s,l2s,sample_energies=setUpsamples(sample_geom,molecule,basis,reference_determinant,mix_states=False,type=\"procrustes\")\n",
    "evcsolver=EVCSolver(geom_alphas,molecule,basis,reference_determinant,t1s,t2s,l1s,l2s,sample_x=sample_geom,mix_states=False)\n",
    "E_AMP_full=evcsolver.solve_AMP_CCSD(occs=1,virts=1)\n",
    "E_AMP_red=evcsolver.solve_AMP_CCSD(occs=1,virts=0.5)\n",
    "energies_AMP[i].append(E_AMP_full)\n",
    "energies_AMPred[i].append(E_AMP_red)\n",
    "t1s_reduced=E_AMP_red.t1s_final\n",
    "t2s_reduced=E_AMP_red.t2s_final\n",
    "t1s_full=E_AMP_red.t1s_final\n",
    "t2s_full=E_AMP_full.t2s_final"
   ]
  }
 ],
 "metadata": {
  "kernelspec": {
   "display_name": "Python 3 (ipykernel)",
   "language": "python",
   "name": "python3"
  },
  "language_info": {
   "codemirror_mode": {
    "name": "ipython",
    "version": 3
   },
   "file_extension": ".py",
   "mimetype": "text/x-python",
   "name": "python",
   "nbconvert_exporter": "python",
   "pygments_lexer": "ipython3",
   "version": "3.8.5"
  }
 },
 "nbformat": 4,
 "nbformat_minor": 5
}
